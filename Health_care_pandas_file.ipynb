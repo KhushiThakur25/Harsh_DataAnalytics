{
 "cells": [
  {
   "cell_type": "code",
   "execution_count": 30,
   "id": "6269267f-e7f8-4165-a3ab-6ed675b1daa3",
   "metadata": {
    "tags": []
   },
   "outputs": [],
   "source": [
    "import pandas as pd\n",
    "import numpy as np\n",
    "from collections import Counter"
   ]
  },
  {
   "cell_type": "code",
   "execution_count": 2,
   "id": "bf94736e-8eea-4545-8388-865c268acdd2",
   "metadata": {
    "tags": []
   },
   "outputs": [
    {
     "data": {
      "text/plain": [
       "9693"
      ]
     },
     "execution_count": 2,
     "metadata": {},
     "output_type": "execute_result"
    }
   ],
   "source": [
    "data = pd.read_csv('healthcare_dataset.csv')\n",
    "above_30 = []\n",
    "for i in data['Age']:\n",
    "    if i < 30:\n",
    "        above_30.append(i)\n",
    "        \n",
    "len(above_30)"
   ]
  },
  {
   "cell_type": "code",
   "execution_count": 3,
   "id": "f6a3a511-65d0-4bc0-a1a9-e7f4ca5732cc",
   "metadata": {
    "tags": []
   },
   "outputs": [],
   "source": [
    "df = pd.DataFrame(data)"
   ]
  },
  {
   "cell_type": "code",
   "execution_count": 4,
   "id": "96ce3a84-22d3-4e8b-8ebf-0bc8fdbd0e12",
   "metadata": {
    "tags": []
   },
   "outputs": [
    {
     "data": {
      "text/html": [
       "<div>\n",
       "<style scoped>\n",
       "    .dataframe tbody tr th:only-of-type {\n",
       "        vertical-align: middle;\n",
       "    }\n",
       "\n",
       "    .dataframe tbody tr th {\n",
       "        vertical-align: top;\n",
       "    }\n",
       "\n",
       "    .dataframe thead th {\n",
       "        text-align: right;\n",
       "    }\n",
       "</style>\n",
       "<table border=\"1\" class=\"dataframe\">\n",
       "  <thead>\n",
       "    <tr style=\"text-align: right;\">\n",
       "      <th></th>\n",
       "      <th>Name</th>\n",
       "      <th>Age</th>\n",
       "      <th>Gender</th>\n",
       "      <th>Blood Type</th>\n",
       "      <th>Medical Condition</th>\n",
       "      <th>Date of Admission</th>\n",
       "      <th>Doctor</th>\n",
       "      <th>Hospital</th>\n",
       "      <th>Insurance Provider</th>\n",
       "      <th>Billing Amount</th>\n",
       "      <th>Room Number</th>\n",
       "      <th>Admission Type</th>\n",
       "      <th>Discharge Date</th>\n",
       "      <th>Medication</th>\n",
       "      <th>Test Results</th>\n",
       "    </tr>\n",
       "  </thead>\n",
       "  <tbody>\n",
       "    <tr>\n",
       "      <th>2</th>\n",
       "      <td>DaNnY sMitH</td>\n",
       "      <td>76</td>\n",
       "      <td>Female</td>\n",
       "      <td>A-</td>\n",
       "      <td>Obesity</td>\n",
       "      <td>2022-09-22</td>\n",
       "      <td>Tiffany Mitchell</td>\n",
       "      <td>Cook PLC</td>\n",
       "      <td>Aetna</td>\n",
       "      <td>27955.096079</td>\n",
       "      <td>205</td>\n",
       "      <td>Emergency</td>\n",
       "      <td>2022-10-07</td>\n",
       "      <td>Aspirin</td>\n",
       "      <td>Normal</td>\n",
       "    </tr>\n",
       "    <tr>\n",
       "      <th>3</th>\n",
       "      <td>andrEw waTtS</td>\n",
       "      <td>28</td>\n",
       "      <td>Female</td>\n",
       "      <td>O+</td>\n",
       "      <td>Diabetes</td>\n",
       "      <td>2020-11-18</td>\n",
       "      <td>Kevin Wells</td>\n",
       "      <td>Hernandez Rogers and Vang,</td>\n",
       "      <td>Medicare</td>\n",
       "      <td>37909.782410</td>\n",
       "      <td>450</td>\n",
       "      <td>Elective</td>\n",
       "      <td>2020-12-18</td>\n",
       "      <td>Ibuprofen</td>\n",
       "      <td>Abnormal</td>\n",
       "    </tr>\n",
       "    <tr>\n",
       "      <th>4</th>\n",
       "      <td>adrIENNE bEll</td>\n",
       "      <td>43</td>\n",
       "      <td>Female</td>\n",
       "      <td>AB+</td>\n",
       "      <td>Cancer</td>\n",
       "      <td>2022-09-19</td>\n",
       "      <td>Kathleen Hanna</td>\n",
       "      <td>White-White</td>\n",
       "      <td>Aetna</td>\n",
       "      <td>14238.317814</td>\n",
       "      <td>458</td>\n",
       "      <td>Urgent</td>\n",
       "      <td>2022-10-09</td>\n",
       "      <td>Penicillin</td>\n",
       "      <td>Abnormal</td>\n",
       "    </tr>\n",
       "    <tr>\n",
       "      <th>5</th>\n",
       "      <td>EMILY JOHNSOn</td>\n",
       "      <td>36</td>\n",
       "      <td>Male</td>\n",
       "      <td>A+</td>\n",
       "      <td>Asthma</td>\n",
       "      <td>2023-12-20</td>\n",
       "      <td>Taylor Newton</td>\n",
       "      <td>Nunez-Humphrey</td>\n",
       "      <td>UnitedHealthcare</td>\n",
       "      <td>48145.110951</td>\n",
       "      <td>389</td>\n",
       "      <td>Urgent</td>\n",
       "      <td>2023-12-24</td>\n",
       "      <td>Ibuprofen</td>\n",
       "      <td>Normal</td>\n",
       "    </tr>\n",
       "    <tr>\n",
       "      <th>6</th>\n",
       "      <td>edwArD EDWaRDs</td>\n",
       "      <td>21</td>\n",
       "      <td>Female</td>\n",
       "      <td>AB-</td>\n",
       "      <td>Diabetes</td>\n",
       "      <td>2020-11-03</td>\n",
       "      <td>Kelly Olson</td>\n",
       "      <td>Group Middleton</td>\n",
       "      <td>Medicare</td>\n",
       "      <td>19580.872345</td>\n",
       "      <td>389</td>\n",
       "      <td>Emergency</td>\n",
       "      <td>2020-11-15</td>\n",
       "      <td>Paracetamol</td>\n",
       "      <td>Inconclusive</td>\n",
       "    </tr>\n",
       "  </tbody>\n",
       "</table>\n",
       "</div>"
      ],
      "text/plain": [
       "             Name  Age  Gender Blood Type Medical Condition Date of Admission  \\\n",
       "2     DaNnY sMitH   76  Female         A-           Obesity        2022-09-22   \n",
       "3    andrEw waTtS   28  Female         O+          Diabetes        2020-11-18   \n",
       "4   adrIENNE bEll   43  Female        AB+            Cancer        2022-09-19   \n",
       "5   EMILY JOHNSOn   36    Male         A+            Asthma        2023-12-20   \n",
       "6  edwArD EDWaRDs   21  Female        AB-          Diabetes        2020-11-03   \n",
       "\n",
       "             Doctor                    Hospital Insurance Provider  \\\n",
       "2  Tiffany Mitchell                    Cook PLC              Aetna   \n",
       "3       Kevin Wells  Hernandez Rogers and Vang,           Medicare   \n",
       "4    Kathleen Hanna                 White-White              Aetna   \n",
       "5     Taylor Newton              Nunez-Humphrey   UnitedHealthcare   \n",
       "6       Kelly Olson             Group Middleton           Medicare   \n",
       "\n",
       "   Billing Amount  Room Number Admission Type Discharge Date   Medication  \\\n",
       "2    27955.096079          205      Emergency     2022-10-07      Aspirin   \n",
       "3    37909.782410          450       Elective     2020-12-18    Ibuprofen   \n",
       "4    14238.317814          458         Urgent     2022-10-09   Penicillin   \n",
       "5    48145.110951          389         Urgent     2023-12-24    Ibuprofen   \n",
       "6    19580.872345          389      Emergency     2020-11-15  Paracetamol   \n",
       "\n",
       "   Test Results  \n",
       "2        Normal  \n",
       "3      Abnormal  \n",
       "4      Abnormal  \n",
       "5        Normal  \n",
       "6  Inconclusive  "
      ]
     },
     "execution_count": 4,
     "metadata": {},
     "output_type": "execute_result"
    }
   ],
   "source": [
    "df.loc[2:6]"
   ]
  },
  {
   "cell_type": "code",
   "execution_count": 25,
   "id": "a832cd9a-68de-4973-ac5a-09ff04d07932",
   "metadata": {
    "tags": []
   },
   "outputs": [
    {
     "data": {
      "text/plain": [
       "str"
      ]
     },
     "execution_count": 25,
     "metadata": {},
     "output_type": "execute_result"
    }
   ],
   "source": [
    "arr = np.array(df['Date of Admission'])\n",
    "type(arr[0])\n"
   ]
  },
  {
   "cell_type": "code",
   "execution_count": 31,
   "id": "51d7eee0-a87c-4d28-b15b-1d56e84543e0",
   "metadata": {
    "tags": []
   },
   "outputs": [],
   "source": [
    "year = []\n",
    "for i in arr:\n",
    "    st = i.split('-')\n",
    "    year.append(st[0])\n",
    "    \n",
    "df['Year'] = year"
   ]
  },
  {
   "cell_type": "code",
   "execution_count": 34,
   "id": "dcee053d-e116-432f-a59a-5d4e8e25f754",
   "metadata": {
    "tags": []
   },
   "outputs": [],
   "source": [
    "uniq_year = pd.unique(df['Year'])"
   ]
  },
  {
   "cell_type": "code",
   "execution_count": 37,
   "id": "9d81f522-af0e-4e86-a87f-9b093c2939b5",
   "metadata": {
    "tags": []
   },
   "outputs": [
    {
     "name": "stdout",
     "output_type": "stream",
     "text": [
      "2024  ->  3854\n",
      "2019  ->  7387\n",
      "2022  ->  11017\n",
      "2020  ->  11285\n",
      "2023  ->  11026\n",
      "2021  ->  10931\n"
     ]
    }
   ],
   "source": [
    "for i in uniq_year:\n",
    "    print(i , \" -> \" ,len(df[df['Year'] == i] ))"
   ]
  },
  {
   "cell_type": "code",
   "execution_count": 5,
   "id": "704a8970-236d-4318-893f-ee899bf81a7f",
   "metadata": {
    "tags": []
   },
   "outputs": [],
   "source": [
    "range_1_20 = []\n",
    "range_21_40 = []\n",
    "range_41_60 = []\n",
    "range_61_80 = []\n",
    "range_81_100 = []\n",
    "for i in df['Age']:\n",
    "    if i >= 1 and i <= 20:\n",
    "        range_1_20.append(i)\n",
    "    elif i >= 21 and i <= 40:\n",
    "        range_21_40.append(i)\n",
    "    elif i >= 41 and i <= 60:\n",
    "        range_41_60.append(i)\n",
    "    elif i >= 61 and i <= 80:\n",
    "        range_61_80.append(i)\n",
    "    else:\n",
    "        range_81_100.append(i)"
   ]
  },
  {
   "cell_type": "code",
   "execution_count": 6,
   "id": "ecc4426c-b0f6-41bb-bc72-eea696ec077c",
   "metadata": {
    "tags": []
   },
   "outputs": [
    {
     "data": {
      "text/plain": [
       "55500"
      ]
     },
     "execution_count": 6,
     "metadata": {},
     "output_type": "execute_result"
    }
   ],
   "source": [
    "len(range_1_20) + len(range_21_40) + len(range_41_60) + len(range_61_80) + len( range_81_100)"
   ]
  },
  {
   "cell_type": "code",
   "execution_count": 7,
   "id": "f7aaa406-cc45-42d2-8c62-e798f8f9941e",
   "metadata": {
    "tags": []
   },
   "outputs": [
    {
     "name": "stdout",
     "output_type": "stream",
     "text": [
      "<class 'pandas.core.frame.DataFrame'>\n",
      "RangeIndex: 55500 entries, 0 to 55499\n",
      "Data columns (total 15 columns):\n",
      " #   Column              Non-Null Count  Dtype  \n",
      "---  ------              --------------  -----  \n",
      " 0   Name                55500 non-null  object \n",
      " 1   Age                 55500 non-null  int64  \n",
      " 2   Gender              55500 non-null  object \n",
      " 3   Blood Type          55500 non-null  object \n",
      " 4   Medical Condition   55500 non-null  object \n",
      " 5   Date of Admission   55500 non-null  object \n",
      " 6   Doctor              55500 non-null  object \n",
      " 7   Hospital            55500 non-null  object \n",
      " 8   Insurance Provider  55500 non-null  object \n",
      " 9   Billing Amount      55500 non-null  float64\n",
      " 10  Room Number         55500 non-null  int64  \n",
      " 11  Admission Type      55500 non-null  object \n",
      " 12  Discharge Date      55500 non-null  object \n",
      " 13  Medication          55500 non-null  object \n",
      " 14  Test Results        55500 non-null  object \n",
      "dtypes: float64(1), int64(2), object(12)\n",
      "memory usage: 6.4+ MB\n"
     ]
    }
   ],
   "source": [
    "df.info()"
   ]
  },
  {
   "cell_type": "code",
   "execution_count": 8,
   "id": "f0852f5a-5857-4ec8-a9f0-15c02b454c60",
   "metadata": {
    "tags": []
   },
   "outputs": [
    {
     "data": {
      "text/html": [
       "<div>\n",
       "<style scoped>\n",
       "    .dataframe tbody tr th:only-of-type {\n",
       "        vertical-align: middle;\n",
       "    }\n",
       "\n",
       "    .dataframe tbody tr th {\n",
       "        vertical-align: top;\n",
       "    }\n",
       "\n",
       "    .dataframe thead th {\n",
       "        text-align: right;\n",
       "    }\n",
       "</style>\n",
       "<table border=\"1\" class=\"dataframe\">\n",
       "  <thead>\n",
       "    <tr style=\"text-align: right;\">\n",
       "      <th></th>\n",
       "      <th>Age</th>\n",
       "      <th>Billing Amount</th>\n",
       "      <th>Room Number</th>\n",
       "    </tr>\n",
       "  </thead>\n",
       "  <tbody>\n",
       "    <tr>\n",
       "      <th>count</th>\n",
       "      <td>55500.000000</td>\n",
       "      <td>55500.000000</td>\n",
       "      <td>55500.000000</td>\n",
       "    </tr>\n",
       "    <tr>\n",
       "      <th>mean</th>\n",
       "      <td>51.539459</td>\n",
       "      <td>25539.316097</td>\n",
       "      <td>301.134829</td>\n",
       "    </tr>\n",
       "    <tr>\n",
       "      <th>std</th>\n",
       "      <td>19.602454</td>\n",
       "      <td>14211.454431</td>\n",
       "      <td>115.243069</td>\n",
       "    </tr>\n",
       "    <tr>\n",
       "      <th>min</th>\n",
       "      <td>13.000000</td>\n",
       "      <td>-2008.492140</td>\n",
       "      <td>101.000000</td>\n",
       "    </tr>\n",
       "    <tr>\n",
       "      <th>25%</th>\n",
       "      <td>35.000000</td>\n",
       "      <td>13241.224652</td>\n",
       "      <td>202.000000</td>\n",
       "    </tr>\n",
       "    <tr>\n",
       "      <th>50%</th>\n",
       "      <td>52.000000</td>\n",
       "      <td>25538.069376</td>\n",
       "      <td>302.000000</td>\n",
       "    </tr>\n",
       "    <tr>\n",
       "      <th>75%</th>\n",
       "      <td>68.000000</td>\n",
       "      <td>37820.508436</td>\n",
       "      <td>401.000000</td>\n",
       "    </tr>\n",
       "    <tr>\n",
       "      <th>max</th>\n",
       "      <td>89.000000</td>\n",
       "      <td>52764.276736</td>\n",
       "      <td>500.000000</td>\n",
       "    </tr>\n",
       "  </tbody>\n",
       "</table>\n",
       "</div>"
      ],
      "text/plain": [
       "                Age  Billing Amount   Room Number\n",
       "count  55500.000000    55500.000000  55500.000000\n",
       "mean      51.539459    25539.316097    301.134829\n",
       "std       19.602454    14211.454431    115.243069\n",
       "min       13.000000    -2008.492140    101.000000\n",
       "25%       35.000000    13241.224652    202.000000\n",
       "50%       52.000000    25538.069376    302.000000\n",
       "75%       68.000000    37820.508436    401.000000\n",
       "max       89.000000    52764.276736    500.000000"
      ]
     },
     "execution_count": 8,
     "metadata": {},
     "output_type": "execute_result"
    }
   ],
   "source": [
    "df.describe()"
   ]
  },
  {
   "cell_type": "code",
   "execution_count": null,
   "id": "6dd0e89a-f1af-4b3a-8109-8d29cad402a6",
   "metadata": {
    "tags": []
   },
   "outputs": [],
   "source": []
  },
  {
   "cell_type": "code",
   "execution_count": 9,
   "id": "d4194431-8201-44a1-b160-c630f58ea4ce",
   "metadata": {
    "tags": []
   },
   "outputs": [
    {
     "data": {
      "text/plain": [
       "Counter({'A-': 6969,\n",
       "         'A+': 6956,\n",
       "         'AB+': 6947,\n",
       "         'AB-': 6945,\n",
       "         'B+': 6945,\n",
       "         'B-': 6944,\n",
       "         'O+': 6917,\n",
       "         'O-': 6877})"
      ]
     },
     "execution_count": 9,
     "metadata": {},
     "output_type": "execute_result"
    }
   ],
   "source": [
    "Counter(df['Blood Type'])"
   ]
  },
  {
   "cell_type": "code",
   "execution_count": 10,
   "id": "7d4ca67b-9ca5-4605-b6a6-dc6b015c648a",
   "metadata": {
    "tags": []
   },
   "outputs": [],
   "source": [
    "dic = Counter(df['Age'])"
   ]
  },
  {
   "cell_type": "code",
   "execution_count": 11,
   "id": "5ca75202-d155-407a-8d71-95cea30812f4",
   "metadata": {
    "tags": []
   },
   "outputs": [],
   "source": [
    "maxs = 0\n",
    "key = 0\n",
    "for i in dic.items():\n",
    "    if maxs < i[1]:\n",
    "        maxs = i[1]\n",
    "        key = i[0]"
   ]
  },
  {
   "cell_type": "code",
   "execution_count": 12,
   "id": "73b4e518-6e00-4d12-ac8f-6698761c710c",
   "metadata": {
    "tags": []
   },
   "outputs": [
    {
     "data": {
      "text/plain": [
       "(897, 38)"
      ]
     },
     "execution_count": 12,
     "metadata": {},
     "output_type": "execute_result"
    }
   ],
   "source": [
    "maxs,key"
   ]
  },
  {
   "cell_type": "code",
   "execution_count": 13,
   "id": "9c7aa279-f6fd-46c5-96f3-da0e1c730e09",
   "metadata": {
    "tags": []
   },
   "outputs": [
    {
     "data": {
      "text/plain": [
       "dict_items([(30, 806), (62, 816), (76, 832), (28, 760), (43, 847), (36, 799), (21, 822), (20, 750), (82, 797), (58, 852), (72, 766), (38, 897), (75, 832), (68, 805), (44, 836), (46, 830), (63, 842), (34, 864), (67, 778), (48, 803), (59, 809), (73, 845), (51, 798), (23, 790), (78, 798), (25, 836), (33, 810), (26, 815), (70, 829), (57, 887), (74, 787), (81, 818), (49, 836), (65, 837), (31, 793), (22, 817), (77, 789), (42, 821), (24, 837), (84, 780), (55, 813), (40, 752), (83, 792), (18, 772), (27, 786), (19, 805), (29, 787), (61, 783), (80, 864), (60, 778), (35, 811), (79, 836), (53, 845), (69, 840), (47, 804), (85, 743), (52, 817), (37, 893), (50, 831), (32, 755), (54, 842), (45, 792), (66, 856), (39, 751), (56, 856), (64, 842), (71, 758), (41, 809), (88, 25), (17, 32), (87, 31), (86, 41), (15, 28), (16, 24), (13, 14), (14, 18), (89, 8)])"
      ]
     },
     "execution_count": 13,
     "metadata": {},
     "output_type": "execute_result"
    }
   ],
   "source": [
    "dic.items()"
   ]
  },
  {
   "cell_type": "code",
   "execution_count": 14,
   "id": "81ab0178-a1db-48ec-878b-bef0ec3bbb75",
   "metadata": {
    "tags": []
   },
   "outputs": [
    {
     "data": {
      "text/plain": [
       "Name                  0\n",
       "Age                   0\n",
       "Gender                0\n",
       "Blood Type            0\n",
       "Medical Condition     0\n",
       "Date of Admission     0\n",
       "Doctor                0\n",
       "Hospital              0\n",
       "Insurance Provider    0\n",
       "Billing Amount        0\n",
       "Room Number           0\n",
       "Admission Type        0\n",
       "Discharge Date        0\n",
       "Medication            0\n",
       "Test Results          0\n",
       "dtype: int64"
      ]
     },
     "execution_count": 14,
     "metadata": {},
     "output_type": "execute_result"
    }
   ],
   "source": [
    "df.isnull().sum()"
   ]
  },
  {
   "cell_type": "code",
   "execution_count": 15,
   "id": "9113ce32-bdd4-45a8-a0d0-9353f5fb77a8",
   "metadata": {
    "tags": []
   },
   "outputs": [
    {
     "data": {
      "text/html": [
       "<div>\n",
       "<style scoped>\n",
       "    .dataframe tbody tr th:only-of-type {\n",
       "        vertical-align: middle;\n",
       "    }\n",
       "\n",
       "    .dataframe tbody tr th {\n",
       "        vertical-align: top;\n",
       "    }\n",
       "\n",
       "    .dataframe thead th {\n",
       "        text-align: right;\n",
       "    }\n",
       "</style>\n",
       "<table border=\"1\" class=\"dataframe\">\n",
       "  <thead>\n",
       "    <tr style=\"text-align: right;\">\n",
       "      <th></th>\n",
       "      <th>Name</th>\n",
       "      <th>Age</th>\n",
       "      <th>Gender</th>\n",
       "      <th>Blood Type</th>\n",
       "      <th>Medical Condition</th>\n",
       "      <th>Date of Admission</th>\n",
       "      <th>Doctor</th>\n",
       "      <th>Hospital</th>\n",
       "      <th>Insurance Provider</th>\n",
       "      <th>Billing Amount</th>\n",
       "      <th>Room Number</th>\n",
       "      <th>Admission Type</th>\n",
       "      <th>Discharge Date</th>\n",
       "      <th>Medication</th>\n",
       "      <th>Test Results</th>\n",
       "    </tr>\n",
       "  </thead>\n",
       "  <tbody>\n",
       "    <tr>\n",
       "      <th>0</th>\n",
       "      <td>Bobby JacksOn</td>\n",
       "      <td>30</td>\n",
       "      <td>Male</td>\n",
       "      <td>B-</td>\n",
       "      <td>Cancer</td>\n",
       "      <td>2024-01-31</td>\n",
       "      <td>Matthew Smith</td>\n",
       "      <td>Sons and Miller</td>\n",
       "      <td>Blue Cross</td>\n",
       "      <td>18856.281306</td>\n",
       "      <td>328</td>\n",
       "      <td>Urgent</td>\n",
       "      <td>2024-02-02</td>\n",
       "      <td>Paracetamol</td>\n",
       "      <td>Normal</td>\n",
       "    </tr>\n",
       "    <tr>\n",
       "      <th>1</th>\n",
       "      <td>LesLie TErRy</td>\n",
       "      <td>62</td>\n",
       "      <td>Male</td>\n",
       "      <td>A+</td>\n",
       "      <td>Obesity</td>\n",
       "      <td>2019-08-20</td>\n",
       "      <td>Samantha Davies</td>\n",
       "      <td>Kim Inc</td>\n",
       "      <td>Medicare</td>\n",
       "      <td>33643.327287</td>\n",
       "      <td>265</td>\n",
       "      <td>Emergency</td>\n",
       "      <td>2019-08-26</td>\n",
       "      <td>Ibuprofen</td>\n",
       "      <td>Inconclusive</td>\n",
       "    </tr>\n",
       "    <tr>\n",
       "      <th>2</th>\n",
       "      <td>DaNnY sMitH</td>\n",
       "      <td>76</td>\n",
       "      <td>Female</td>\n",
       "      <td>A-</td>\n",
       "      <td>Obesity</td>\n",
       "      <td>2022-09-22</td>\n",
       "      <td>Tiffany Mitchell</td>\n",
       "      <td>Cook PLC</td>\n",
       "      <td>Aetna</td>\n",
       "      <td>27955.096079</td>\n",
       "      <td>205</td>\n",
       "      <td>Emergency</td>\n",
       "      <td>2022-10-07</td>\n",
       "      <td>Aspirin</td>\n",
       "      <td>Normal</td>\n",
       "    </tr>\n",
       "    <tr>\n",
       "      <th>3</th>\n",
       "      <td>andrEw waTtS</td>\n",
       "      <td>28</td>\n",
       "      <td>Female</td>\n",
       "      <td>O+</td>\n",
       "      <td>Diabetes</td>\n",
       "      <td>2020-11-18</td>\n",
       "      <td>Kevin Wells</td>\n",
       "      <td>Hernandez Rogers and Vang,</td>\n",
       "      <td>Medicare</td>\n",
       "      <td>37909.782410</td>\n",
       "      <td>450</td>\n",
       "      <td>Elective</td>\n",
       "      <td>2020-12-18</td>\n",
       "      <td>Ibuprofen</td>\n",
       "      <td>Abnormal</td>\n",
       "    </tr>\n",
       "    <tr>\n",
       "      <th>4</th>\n",
       "      <td>adrIENNE bEll</td>\n",
       "      <td>43</td>\n",
       "      <td>Female</td>\n",
       "      <td>AB+</td>\n",
       "      <td>Cancer</td>\n",
       "      <td>2022-09-19</td>\n",
       "      <td>Kathleen Hanna</td>\n",
       "      <td>White-White</td>\n",
       "      <td>Aetna</td>\n",
       "      <td>14238.317814</td>\n",
       "      <td>458</td>\n",
       "      <td>Urgent</td>\n",
       "      <td>2022-10-09</td>\n",
       "      <td>Penicillin</td>\n",
       "      <td>Abnormal</td>\n",
       "    </tr>\n",
       "    <tr>\n",
       "      <th>5</th>\n",
       "      <td>EMILY JOHNSOn</td>\n",
       "      <td>36</td>\n",
       "      <td>Male</td>\n",
       "      <td>A+</td>\n",
       "      <td>Asthma</td>\n",
       "      <td>2023-12-20</td>\n",
       "      <td>Taylor Newton</td>\n",
       "      <td>Nunez-Humphrey</td>\n",
       "      <td>UnitedHealthcare</td>\n",
       "      <td>48145.110951</td>\n",
       "      <td>389</td>\n",
       "      <td>Urgent</td>\n",
       "      <td>2023-12-24</td>\n",
       "      <td>Ibuprofen</td>\n",
       "      <td>Normal</td>\n",
       "    </tr>\n",
       "    <tr>\n",
       "      <th>6</th>\n",
       "      <td>edwArD EDWaRDs</td>\n",
       "      <td>21</td>\n",
       "      <td>Female</td>\n",
       "      <td>AB-</td>\n",
       "      <td>Diabetes</td>\n",
       "      <td>2020-11-03</td>\n",
       "      <td>Kelly Olson</td>\n",
       "      <td>Group Middleton</td>\n",
       "      <td>Medicare</td>\n",
       "      <td>19580.872345</td>\n",
       "      <td>389</td>\n",
       "      <td>Emergency</td>\n",
       "      <td>2020-11-15</td>\n",
       "      <td>Paracetamol</td>\n",
       "      <td>Inconclusive</td>\n",
       "    </tr>\n",
       "    <tr>\n",
       "      <th>7</th>\n",
       "      <td>CHrisTInA MARtinez</td>\n",
       "      <td>20</td>\n",
       "      <td>Female</td>\n",
       "      <td>A+</td>\n",
       "      <td>Cancer</td>\n",
       "      <td>2021-12-28</td>\n",
       "      <td>Suzanne Thomas</td>\n",
       "      <td>Powell Robinson and Valdez,</td>\n",
       "      <td>Cigna</td>\n",
       "      <td>45820.462722</td>\n",
       "      <td>277</td>\n",
       "      <td>Emergency</td>\n",
       "      <td>2022-01-07</td>\n",
       "      <td>Paracetamol</td>\n",
       "      <td>Inconclusive</td>\n",
       "    </tr>\n",
       "    <tr>\n",
       "      <th>8</th>\n",
       "      <td>JASmINe aGuIlaR</td>\n",
       "      <td>82</td>\n",
       "      <td>Male</td>\n",
       "      <td>AB+</td>\n",
       "      <td>Asthma</td>\n",
       "      <td>2020-07-01</td>\n",
       "      <td>Daniel Ferguson</td>\n",
       "      <td>Sons Rich and</td>\n",
       "      <td>Cigna</td>\n",
       "      <td>50119.222792</td>\n",
       "      <td>316</td>\n",
       "      <td>Elective</td>\n",
       "      <td>2020-07-14</td>\n",
       "      <td>Aspirin</td>\n",
       "      <td>Abnormal</td>\n",
       "    </tr>\n",
       "    <tr>\n",
       "      <th>9</th>\n",
       "      <td>ChRISTopher BerG</td>\n",
       "      <td>58</td>\n",
       "      <td>Female</td>\n",
       "      <td>AB-</td>\n",
       "      <td>Cancer</td>\n",
       "      <td>2021-05-23</td>\n",
       "      <td>Heather Day</td>\n",
       "      <td>Padilla-Walker</td>\n",
       "      <td>UnitedHealthcare</td>\n",
       "      <td>19784.631062</td>\n",
       "      <td>249</td>\n",
       "      <td>Elective</td>\n",
       "      <td>2021-06-22</td>\n",
       "      <td>Paracetamol</td>\n",
       "      <td>Inconclusive</td>\n",
       "    </tr>\n",
       "  </tbody>\n",
       "</table>\n",
       "</div>"
      ],
      "text/plain": [
       "                 Name  Age  Gender Blood Type Medical Condition  \\\n",
       "0       Bobby JacksOn   30    Male         B-            Cancer   \n",
       "1        LesLie TErRy   62    Male         A+           Obesity   \n",
       "2         DaNnY sMitH   76  Female         A-           Obesity   \n",
       "3        andrEw waTtS   28  Female         O+          Diabetes   \n",
       "4       adrIENNE bEll   43  Female        AB+            Cancer   \n",
       "5       EMILY JOHNSOn   36    Male         A+            Asthma   \n",
       "6      edwArD EDWaRDs   21  Female        AB-          Diabetes   \n",
       "7  CHrisTInA MARtinez   20  Female         A+            Cancer   \n",
       "8     JASmINe aGuIlaR   82    Male        AB+            Asthma   \n",
       "9    ChRISTopher BerG   58  Female        AB-            Cancer   \n",
       "\n",
       "  Date of Admission            Doctor                     Hospital  \\\n",
       "0        2024-01-31     Matthew Smith              Sons and Miller   \n",
       "1        2019-08-20   Samantha Davies                      Kim Inc   \n",
       "2        2022-09-22  Tiffany Mitchell                     Cook PLC   \n",
       "3        2020-11-18       Kevin Wells   Hernandez Rogers and Vang,   \n",
       "4        2022-09-19    Kathleen Hanna                  White-White   \n",
       "5        2023-12-20     Taylor Newton               Nunez-Humphrey   \n",
       "6        2020-11-03       Kelly Olson              Group Middleton   \n",
       "7        2021-12-28    Suzanne Thomas  Powell Robinson and Valdez,   \n",
       "8        2020-07-01   Daniel Ferguson                Sons Rich and   \n",
       "9        2021-05-23       Heather Day               Padilla-Walker   \n",
       "\n",
       "  Insurance Provider  Billing Amount  Room Number Admission Type  \\\n",
       "0         Blue Cross    18856.281306          328         Urgent   \n",
       "1           Medicare    33643.327287          265      Emergency   \n",
       "2              Aetna    27955.096079          205      Emergency   \n",
       "3           Medicare    37909.782410          450       Elective   \n",
       "4              Aetna    14238.317814          458         Urgent   \n",
       "5   UnitedHealthcare    48145.110951          389         Urgent   \n",
       "6           Medicare    19580.872345          389      Emergency   \n",
       "7              Cigna    45820.462722          277      Emergency   \n",
       "8              Cigna    50119.222792          316       Elective   \n",
       "9   UnitedHealthcare    19784.631062          249       Elective   \n",
       "\n",
       "  Discharge Date   Medication  Test Results  \n",
       "0     2024-02-02  Paracetamol        Normal  \n",
       "1     2019-08-26    Ibuprofen  Inconclusive  \n",
       "2     2022-10-07      Aspirin        Normal  \n",
       "3     2020-12-18    Ibuprofen      Abnormal  \n",
       "4     2022-10-09   Penicillin      Abnormal  \n",
       "5     2023-12-24    Ibuprofen        Normal  \n",
       "6     2020-11-15  Paracetamol  Inconclusive  \n",
       "7     2022-01-07  Paracetamol  Inconclusive  \n",
       "8     2020-07-14      Aspirin      Abnormal  \n",
       "9     2021-06-22  Paracetamol  Inconclusive  "
      ]
     },
     "execution_count": 15,
     "metadata": {},
     "output_type": "execute_result"
    }
   ],
   "source": [
    "df.head(10)"
   ]
  },
  {
   "cell_type": "code",
   "execution_count": 16,
   "id": "c836a76c-f23e-4238-a0c9-5b0a7f342f46",
   "metadata": {
    "tags": []
   },
   "outputs": [
    {
     "data": {
      "text/html": [
       "<div>\n",
       "<style scoped>\n",
       "    .dataframe tbody tr th:only-of-type {\n",
       "        vertical-align: middle;\n",
       "    }\n",
       "\n",
       "    .dataframe tbody tr th {\n",
       "        vertical-align: top;\n",
       "    }\n",
       "\n",
       "    .dataframe thead th {\n",
       "        text-align: right;\n",
       "    }\n",
       "</style>\n",
       "<table border=\"1\" class=\"dataframe\">\n",
       "  <thead>\n",
       "    <tr style=\"text-align: right;\">\n",
       "      <th></th>\n",
       "      <th>Name</th>\n",
       "      <th>Age</th>\n",
       "      <th>Gender</th>\n",
       "      <th>Blood Type</th>\n",
       "      <th>Medical Condition</th>\n",
       "      <th>Date of Admission</th>\n",
       "      <th>Doctor</th>\n",
       "      <th>Hospital</th>\n",
       "      <th>Insurance Provider</th>\n",
       "      <th>Billing Amount</th>\n",
       "      <th>Room Number</th>\n",
       "      <th>Admission Type</th>\n",
       "      <th>Discharge Date</th>\n",
       "      <th>Medication</th>\n",
       "      <th>Test Results</th>\n",
       "    </tr>\n",
       "  </thead>\n",
       "  <tbody>\n",
       "    <tr>\n",
       "      <th>55490</th>\n",
       "      <td>STepHAniE oliVer</td>\n",
       "      <td>82</td>\n",
       "      <td>Male</td>\n",
       "      <td>B-</td>\n",
       "      <td>Cancer</td>\n",
       "      <td>2022-01-10</td>\n",
       "      <td>Gary Leblanc</td>\n",
       "      <td>Group Lee</td>\n",
       "      <td>Cigna</td>\n",
       "      <td>17350.543524</td>\n",
       "      <td>381</td>\n",
       "      <td>Emergency</td>\n",
       "      <td>2022-01-21</td>\n",
       "      <td>Penicillin</td>\n",
       "      <td>Abnormal</td>\n",
       "    </tr>\n",
       "    <tr>\n",
       "      <th>55491</th>\n",
       "      <td>lInDA grIFfin</td>\n",
       "      <td>47</td>\n",
       "      <td>Female</td>\n",
       "      <td>O+</td>\n",
       "      <td>Obesity</td>\n",
       "      <td>2020-06-21</td>\n",
       "      <td>Danielle Davis</td>\n",
       "      <td>and King Jordan Johnson,</td>\n",
       "      <td>Aetna</td>\n",
       "      <td>15715.551079</td>\n",
       "      <td>310</td>\n",
       "      <td>Emergency</td>\n",
       "      <td>2020-06-25</td>\n",
       "      <td>Lipitor</td>\n",
       "      <td>Abnormal</td>\n",
       "    </tr>\n",
       "    <tr>\n",
       "      <th>55492</th>\n",
       "      <td>LAuREn MCcormIcK</td>\n",
       "      <td>51</td>\n",
       "      <td>Male</td>\n",
       "      <td>O+</td>\n",
       "      <td>Arthritis</td>\n",
       "      <td>2020-12-06</td>\n",
       "      <td>Kevin Flores</td>\n",
       "      <td>Inc Barnett</td>\n",
       "      <td>Cigna</td>\n",
       "      <td>2588.150832</td>\n",
       "      <td>289</td>\n",
       "      <td>Emergency</td>\n",
       "      <td>2020-12-12</td>\n",
       "      <td>Paracetamol</td>\n",
       "      <td>Normal</td>\n",
       "    </tr>\n",
       "    <tr>\n",
       "      <th>55493</th>\n",
       "      <td>gLoRIA BOWen</td>\n",
       "      <td>57</td>\n",
       "      <td>Female</td>\n",
       "      <td>B-</td>\n",
       "      <td>Arthritis</td>\n",
       "      <td>2022-07-23</td>\n",
       "      <td>Lucas Thompson</td>\n",
       "      <td>Group Gonzalez</td>\n",
       "      <td>Medicare</td>\n",
       "      <td>3954.853764</td>\n",
       "      <td>463</td>\n",
       "      <td>Emergency</td>\n",
       "      <td>2022-08-18</td>\n",
       "      <td>Aspirin</td>\n",
       "      <td>Abnormal</td>\n",
       "    </tr>\n",
       "    <tr>\n",
       "      <th>55494</th>\n",
       "      <td>JEssIcA WHiTe</td>\n",
       "      <td>67</td>\n",
       "      <td>Male</td>\n",
       "      <td>O+</td>\n",
       "      <td>Arthritis</td>\n",
       "      <td>2023-12-11</td>\n",
       "      <td>Jesus Jordan</td>\n",
       "      <td>Miller-Harris</td>\n",
       "      <td>Medicare</td>\n",
       "      <td>42535.301234</td>\n",
       "      <td>378</td>\n",
       "      <td>Emergency</td>\n",
       "      <td>2024-01-04</td>\n",
       "      <td>Ibuprofen</td>\n",
       "      <td>Normal</td>\n",
       "    </tr>\n",
       "    <tr>\n",
       "      <th>55495</th>\n",
       "      <td>eLIZABeTH jaCkSOn</td>\n",
       "      <td>42</td>\n",
       "      <td>Female</td>\n",
       "      <td>O+</td>\n",
       "      <td>Asthma</td>\n",
       "      <td>2020-08-16</td>\n",
       "      <td>Joshua Jarvis</td>\n",
       "      <td>Jones-Thompson</td>\n",
       "      <td>Blue Cross</td>\n",
       "      <td>2650.714952</td>\n",
       "      <td>417</td>\n",
       "      <td>Elective</td>\n",
       "      <td>2020-09-15</td>\n",
       "      <td>Penicillin</td>\n",
       "      <td>Abnormal</td>\n",
       "    </tr>\n",
       "    <tr>\n",
       "      <th>55496</th>\n",
       "      <td>KYle pEREz</td>\n",
       "      <td>61</td>\n",
       "      <td>Female</td>\n",
       "      <td>AB-</td>\n",
       "      <td>Obesity</td>\n",
       "      <td>2020-01-23</td>\n",
       "      <td>Taylor Sullivan</td>\n",
       "      <td>Tucker-Moyer</td>\n",
       "      <td>Cigna</td>\n",
       "      <td>31457.797307</td>\n",
       "      <td>316</td>\n",
       "      <td>Elective</td>\n",
       "      <td>2020-02-01</td>\n",
       "      <td>Aspirin</td>\n",
       "      <td>Normal</td>\n",
       "    </tr>\n",
       "    <tr>\n",
       "      <th>55497</th>\n",
       "      <td>HEATher WaNG</td>\n",
       "      <td>38</td>\n",
       "      <td>Female</td>\n",
       "      <td>B+</td>\n",
       "      <td>Hypertension</td>\n",
       "      <td>2020-07-13</td>\n",
       "      <td>Joe Jacobs DVM</td>\n",
       "      <td>and Mahoney Johnson Vasquez,</td>\n",
       "      <td>UnitedHealthcare</td>\n",
       "      <td>27620.764717</td>\n",
       "      <td>347</td>\n",
       "      <td>Urgent</td>\n",
       "      <td>2020-08-10</td>\n",
       "      <td>Ibuprofen</td>\n",
       "      <td>Abnormal</td>\n",
       "    </tr>\n",
       "    <tr>\n",
       "      <th>55498</th>\n",
       "      <td>JENniFER JOneS</td>\n",
       "      <td>43</td>\n",
       "      <td>Male</td>\n",
       "      <td>O-</td>\n",
       "      <td>Arthritis</td>\n",
       "      <td>2019-05-25</td>\n",
       "      <td>Kimberly Curry</td>\n",
       "      <td>Jackson Todd and Castro,</td>\n",
       "      <td>Medicare</td>\n",
       "      <td>32451.092358</td>\n",
       "      <td>321</td>\n",
       "      <td>Elective</td>\n",
       "      <td>2019-05-31</td>\n",
       "      <td>Ibuprofen</td>\n",
       "      <td>Abnormal</td>\n",
       "    </tr>\n",
       "    <tr>\n",
       "      <th>55499</th>\n",
       "      <td>jAMES GARCiA</td>\n",
       "      <td>53</td>\n",
       "      <td>Female</td>\n",
       "      <td>O+</td>\n",
       "      <td>Arthritis</td>\n",
       "      <td>2024-04-02</td>\n",
       "      <td>Dennis Warren</td>\n",
       "      <td>Henry Sons and</td>\n",
       "      <td>Aetna</td>\n",
       "      <td>4010.134172</td>\n",
       "      <td>448</td>\n",
       "      <td>Urgent</td>\n",
       "      <td>2024-04-29</td>\n",
       "      <td>Ibuprofen</td>\n",
       "      <td>Abnormal</td>\n",
       "    </tr>\n",
       "  </tbody>\n",
       "</table>\n",
       "</div>"
      ],
      "text/plain": [
       "                    Name  Age  Gender Blood Type Medical Condition  \\\n",
       "55490   STepHAniE oliVer   82    Male         B-            Cancer   \n",
       "55491      lInDA grIFfin   47  Female         O+           Obesity   \n",
       "55492   LAuREn MCcormIcK   51    Male         O+         Arthritis   \n",
       "55493       gLoRIA BOWen   57  Female         B-         Arthritis   \n",
       "55494      JEssIcA WHiTe   67    Male         O+         Arthritis   \n",
       "55495  eLIZABeTH jaCkSOn   42  Female         O+            Asthma   \n",
       "55496         KYle pEREz   61  Female        AB-           Obesity   \n",
       "55497       HEATher WaNG   38  Female         B+      Hypertension   \n",
       "55498     JENniFER JOneS   43    Male         O-         Arthritis   \n",
       "55499       jAMES GARCiA   53  Female         O+         Arthritis   \n",
       "\n",
       "      Date of Admission           Doctor                      Hospital  \\\n",
       "55490        2022-01-10     Gary Leblanc                     Group Lee   \n",
       "55491        2020-06-21   Danielle Davis      and King Jordan Johnson,   \n",
       "55492        2020-12-06     Kevin Flores                   Inc Barnett   \n",
       "55493        2022-07-23   Lucas Thompson                Group Gonzalez   \n",
       "55494        2023-12-11     Jesus Jordan                 Miller-Harris   \n",
       "55495        2020-08-16    Joshua Jarvis                Jones-Thompson   \n",
       "55496        2020-01-23  Taylor Sullivan                  Tucker-Moyer   \n",
       "55497        2020-07-13   Joe Jacobs DVM  and Mahoney Johnson Vasquez,   \n",
       "55498        2019-05-25   Kimberly Curry      Jackson Todd and Castro,   \n",
       "55499        2024-04-02    Dennis Warren                Henry Sons and   \n",
       "\n",
       "      Insurance Provider  Billing Amount  Room Number Admission Type  \\\n",
       "55490              Cigna    17350.543524          381      Emergency   \n",
       "55491              Aetna    15715.551079          310      Emergency   \n",
       "55492              Cigna     2588.150832          289      Emergency   \n",
       "55493           Medicare     3954.853764          463      Emergency   \n",
       "55494           Medicare    42535.301234          378      Emergency   \n",
       "55495         Blue Cross     2650.714952          417       Elective   \n",
       "55496              Cigna    31457.797307          316       Elective   \n",
       "55497   UnitedHealthcare    27620.764717          347         Urgent   \n",
       "55498           Medicare    32451.092358          321       Elective   \n",
       "55499              Aetna     4010.134172          448         Urgent   \n",
       "\n",
       "      Discharge Date   Medication Test Results  \n",
       "55490     2022-01-21   Penicillin     Abnormal  \n",
       "55491     2020-06-25      Lipitor     Abnormal  \n",
       "55492     2020-12-12  Paracetamol       Normal  \n",
       "55493     2022-08-18      Aspirin     Abnormal  \n",
       "55494     2024-01-04    Ibuprofen       Normal  \n",
       "55495     2020-09-15   Penicillin     Abnormal  \n",
       "55496     2020-02-01      Aspirin       Normal  \n",
       "55497     2020-08-10    Ibuprofen     Abnormal  \n",
       "55498     2019-05-31    Ibuprofen     Abnormal  \n",
       "55499     2024-04-29    Ibuprofen     Abnormal  "
      ]
     },
     "execution_count": 16,
     "metadata": {},
     "output_type": "execute_result"
    }
   ],
   "source": [
    "df.tail(10)"
   ]
  },
  {
   "cell_type": "code",
   "execution_count": 17,
   "id": "e5859488-294d-400a-aa9c-80d7e9afee5d",
   "metadata": {
    "tags": []
   },
   "outputs": [
    {
     "data": {
      "text/plain": [
       "array(['Cancer', 'Obesity', 'Diabetes', 'Asthma', 'Hypertension',\n",
       "       'Arthritis'], dtype=object)"
      ]
     },
     "execution_count": 17,
     "metadata": {},
     "output_type": "execute_result"
    }
   ],
   "source": [
    "pd.unique(df['Medical Condition'])"
   ]
  },
  {
   "cell_type": "code",
   "execution_count": 18,
   "id": "1fa4981d-a3fe-4290-8342-fca606678f24",
   "metadata": {
    "tags": []
   },
   "outputs": [
    {
     "data": {
      "text/plain": [
       "array([328, 265, 205, 450, 458, 389, 277, 316, 249, 394, 288, 134, 309,\n",
       "       182, 465, 114, 449, 260, 115, 295, 327, 119, 109, 162, 401, 157,\n",
       "       223, 293, 371, 108, 245, 494, 285, 228, 481, 212, 113, 272, 478,\n",
       "       196, 418, 410, 300, 211, 413, 138, 456, 234, 492, 180, 250, 296,\n",
       "       330, 405, 306, 333, 244, 325, 378, 468, 368, 263, 489, 241, 231,\n",
       "       377, 407, 135, 131, 102, 255, 422, 320, 273, 395, 152, 321, 428,\n",
       "       482, 268, 120, 318, 144, 226, 459, 208, 227, 402, 442, 425, 373,\n",
       "       290, 361, 251, 440, 414, 424, 307, 476, 388, 326, 178, 177, 302,\n",
       "       130, 430, 133, 104, 408, 376, 331, 275, 480, 233, 384, 380, 310,\n",
       "       406, 213, 427, 500, 451, 485, 267, 154, 466, 453, 261, 167, 179,\n",
       "       490, 258, 483, 202, 198, 308, 278, 103, 400, 192, 128, 238, 136,\n",
       "       218, 348, 486, 147, 126, 314, 271, 341, 498, 168, 189, 438, 286,\n",
       "       266, 392, 156, 315, 322, 184, 472, 398, 435, 174, 137, 111, 464,\n",
       "       117, 493, 183, 471, 164, 356, 497, 421, 488, 317, 247, 158, 242,\n",
       "       151, 221, 359, 370, 141, 343, 319, 121, 166, 397, 186, 299, 101,\n",
       "       142, 181, 282, 350, 262, 210, 391, 195, 214, 409, 279, 243, 106,\n",
       "       467, 176, 287, 124, 352, 165, 347, 354, 225, 357, 140, 404, 426,\n",
       "       236, 194, 188, 415, 185, 358, 390, 112, 283, 439, 123, 469, 230,\n",
       "       171, 484, 256, 365, 452, 172, 197, 110, 437, 419, 416, 461, 431,\n",
       "       105, 313, 385, 116, 386, 175, 270, 338, 360, 252, 215, 434, 374,\n",
       "       217, 366, 118, 387, 237, 355, 364, 169, 301, 463, 382, 232, 455,\n",
       "       462, 393, 423, 264, 289, 342, 292, 146, 193, 148, 441, 199, 216,\n",
       "       132, 475, 436, 403, 433, 206, 207, 375, 159, 304, 349, 396, 445,\n",
       "       276, 298, 129, 209, 420, 324, 443, 254, 470, 346, 496, 448, 280,\n",
       "       335, 411, 200, 312, 305, 345, 145, 203, 362, 454, 191, 339, 477,\n",
       "       219, 412, 379, 340, 170, 190, 363, 491, 487, 334, 125, 332, 224,\n",
       "       204, 323, 248, 297, 311, 201, 143, 107, 303, 329, 122, 337, 457,\n",
       "       274, 246, 294, 161, 336, 383, 187, 229, 291, 155, 173, 353, 281,\n",
       "       446, 399, 479, 429, 150, 253, 149, 369, 220, 127, 153, 474, 372,\n",
       "       381, 473, 351, 259, 257, 367, 222, 460, 447, 495, 344, 163, 139,\n",
       "       444, 284, 499, 432, 269, 160, 240, 239, 417, 235])"
      ]
     },
     "execution_count": 18,
     "metadata": {},
     "output_type": "execute_result"
    }
   ],
   "source": [
    "pd.unique(df['Room Number'])"
   ]
  },
  {
   "cell_type": "code",
   "execution_count": 19,
   "id": "ca49c15c-be77-422f-b963-90636479c1db",
   "metadata": {},
   "outputs": [
    {
     "data": {
      "text/plain": [
       "array(['Blue Cross', 'Medicare', 'Aetna', 'UnitedHealthcare', 'Cigna'],\n",
       "      dtype=object)"
      ]
     },
     "execution_count": 19,
     "metadata": {},
     "output_type": "execute_result"
    }
   ],
   "source": [
    "pd.unique(df['Insurance Provider'])"
   ]
  },
  {
   "cell_type": "code",
   "execution_count": 20,
   "id": "13068175-4b96-4047-8aab-f50ad60fa080",
   "metadata": {
    "tags": []
   },
   "outputs": [
    {
     "data": {
      "text/plain": [
       "11249"
      ]
     },
     "execution_count": 20,
     "metadata": {},
     "output_type": "execute_result"
    }
   ],
   "source": [
    "In_Cigna = df[df['Insurance Provider'] == 'Cigna']\n",
    "len(In_Cigna)"
   ]
  },
  {
   "cell_type": "code",
   "execution_count": 21,
   "id": "4d85b232-3787-45a2-afc7-05f2dcb3b2bc",
   "metadata": {
    "tags": []
   },
   "outputs": [
    {
     "data": {
      "text/plain": [
       "(11249, 15)"
      ]
     },
     "execution_count": 21,
     "metadata": {},
     "output_type": "execute_result"
    }
   ],
   "source": [
    "In_Cigna.shape"
   ]
  },
  {
   "cell_type": "code",
   "execution_count": 22,
   "id": "7a9cd7c5-dbbd-4bef-994d-75eba9179748",
   "metadata": {
    "tags": []
   },
   "outputs": [],
   "source": [
    "hosp_arr = pd.unique(df['Hospital'])"
   ]
  },
  {
   "cell_type": "code",
   "execution_count": 23,
   "id": "7c1e7617-1f7e-4299-83af-e73651932f37",
   "metadata": {
    "tags": []
   },
   "outputs": [],
   "source": [
    "dic = {}\n",
    "for i in hosp_arr:\n",
    "    n = df[df['Hospital'] == i]   \n",
    "    dic[i] = sum(n['Billing Amount'])\n",
    "    "
   ]
  },
  {
   "cell_type": "code",
   "execution_count": null,
   "id": "5b99f3e1-5e25-4b1e-8256-ba526e7e4a9e",
   "metadata": {},
   "outputs": [],
   "source": []
  },
  {
   "cell_type": "code",
   "execution_count": null,
   "id": "d92f43be-f2f8-46a3-b7f7-5fdaa835d51f",
   "metadata": {},
   "outputs": [],
   "source": []
  }
 ],
 "metadata": {
  "kernelspec": {
   "display_name": "Python 3 (ipykernel)",
   "language": "python",
   "name": "python3"
  },
  "language_info": {
   "codemirror_mode": {
    "name": "ipython",
    "version": 3
   },
   "file_extension": ".py",
   "mimetype": "text/x-python",
   "name": "python",
   "nbconvert_exporter": "python",
   "pygments_lexer": "ipython3",
   "version": "3.11.5"
  }
 },
 "nbformat": 4,
 "nbformat_minor": 5
}
